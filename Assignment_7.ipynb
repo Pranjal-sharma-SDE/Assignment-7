{
  "nbformat": 4,
  "nbformat_minor": 0,
  "metadata": {
    "colab": {
      "provenance": [],
      "authorship_tag": "ABX9TyMfaQKf0p7pjnMqCumxy+BF",
      "include_colab_link": true
    },
    "kernelspec": {
      "name": "python3",
      "display_name": "Python 3"
    },
    "language_info": {
      "name": "python"
    }
  },
  "cells": [
    {
      "cell_type": "markdown",
      "metadata": {
        "id": "view-in-github",
        "colab_type": "text"
      },
      "source": [
        "<a href=\"https://colab.research.google.com/github/Pranjal-sharma-SDE/Assignment-7/blob/main/Assignment_7.ipynb\" target=\"_parent\"><img src=\"https://colab.research.google.com/assets/colab-badge.svg\" alt=\"Open In Colab\"/></a>"
      ]
    },
    {
      "cell_type": "code",
      "execution_count": 2,
      "metadata": {
        "colab": {
          "base_uri": "https://localhost:8080/"
        },
        "id": "CN1wDtWC_sfO",
        "outputId": "09901299-c14e-4e80-ad36-93129636abe2"
      },
      "outputs": [
        {
          "output_type": "stream",
          "name": "stdout",
          "text": [
            "enter the first number9\n",
            "enter the second number3\n",
            "First variable is 9 & second variable is 3.\n",
            "Addition: 9 + 3 = 12\n",
            "Subtraction: 9 - 3 = 6\n",
            "Multiplication: 9 * 3 = 27\n",
            "Division: 9 / 3 =3.0\n"
          ]
        }
      ],
      "source": [
        "x=int(input(\"enter the first number\"))\n",
        "y=int(input(\"enter the second number\"))\n",
        "\n",
        "print(f\"First variable is {x} & second variable is {y}.\")\n",
        "result=x+y\n",
        "print(f\"Addition: {x} + {y} = {result}\")\n",
        "result=x-y\n",
        "print(f\"Subtraction: {x} - {y} = {result}\")\n",
        "result=x*y\n",
        "print(f\"Multiplication: {x} * {y} = {result}\")\n",
        "result=x/y\n",
        "print(f\"Division: {x} / {y} ={result}\")\n"
      ]
    },
    {
      "cell_type": "code",
      "source": [],
      "metadata": {
        "id": "gdJZa3hABKoJ"
      },
      "execution_count": null,
      "outputs": []
    },
    {
      "cell_type": "markdown",
      "source": [
        "## Q-2\n"
      ],
      "metadata": {
        "id": "TZxPWwDPB9nY"
      }
    },
    {
      "cell_type": "code",
      "source": [
        "a = 10\n",
        "b = 3\n",
        "\n",
        "result1 = a / b\n",
        "result2 = a // b\n",
        "\n",
        "print(result1)  # Output: 3.3333333333333335\n",
        "print(result2)  # Output: 3\n"
      ],
      "metadata": {
        "colab": {
          "base_uri": "https://localhost:8080/"
        },
        "id": "uPtN5cr6CAOF",
        "outputId": "e4311fca-55b7-48e5-a2bb-2af298d72cf5"
      },
      "execution_count": 3,
      "outputs": [
        {
          "output_type": "stream",
          "name": "stdout",
          "text": [
            "3.3333333333333335\n",
            "3\n"
          ]
        }
      ]
    },
    {
      "cell_type": "code",
      "source": [
        "print(a**b) # 1000\n",
        "print(bin(a))\n",
        "print(bin(b))\n",
        "\n",
        "result=a^b\n",
        "print(result)\n",
        "print(bin(result))##9"
      ],
      "metadata": {
        "colab": {
          "base_uri": "https://localhost:8080/"
        },
        "id": "AZsqccbEClDY",
        "outputId": "9eb9ffdc-d4f5-486f-993e-f681df0bded5"
      },
      "execution_count": 10,
      "outputs": [
        {
          "output_type": "stream",
          "name": "stdout",
          "text": [
            "0b1010\n",
            "0b11\n",
            "1000\n",
            "9\n",
            "0b1001\n"
          ]
        }
      ]
    },
    {
      "cell_type": "code",
      "source": [
        "print(bin(a))\n",
        "a=a<<0\n",
        "print(bin(a))\n",
        "a=a>>0\n",
        "print(bin(a))\n"
      ],
      "metadata": {
        "colab": {
          "base_uri": "https://localhost:8080/"
        },
        "id": "8p3jLLq-FXg_",
        "outputId": "5f3d6cb6-cb4d-45f9-ccbd-52e5e1d4df53"
      },
      "execution_count": 16,
      "outputs": [
        {
          "output_type": "stream",
          "name": "stdout",
          "text": [
            "0b1010\n",
            "0b1010\n",
            "0b1010\n"
          ]
        }
      ]
    },
    {
      "cell_type": "code",
      "source": [
        "a<<2"
      ],
      "metadata": {
        "colab": {
          "base_uri": "https://localhost:8080/"
        },
        "id": "2KZkLfH5CA_V",
        "outputId": "ec45db5d-ff0b-44d5-81f8-6e42e308a641"
      },
      "execution_count": 12,
      "outputs": [
        {
          "output_type": "execute_result",
          "data": {
            "text/plain": [
              "40"
            ]
          },
          "metadata": {},
          "execution_count": 12
        }
      ]
    },
    {
      "cell_type": "code",
      "source": [
        "num = 16\n",
        "shift_amount = 2\n",
        "\n",
        "result = num >> shift_amount\n",
        "\n",
        "print(result)  # Output: 4\n",
        "num = 3\n",
        "shift_amount = 2\n",
        "\n",
        "result = num << shift_amount\n",
        "\n",
        "print(result)  # Output: 12\n",
        "\n"
      ],
      "metadata": {
        "colab": {
          "base_uri": "https://localhost:8080/"
        },
        "id": "z6_aYTEtG_6m",
        "outputId": "cc72a7c4-a2c0-4a0a-eae6-541d67d0608c"
      },
      "execution_count": 18,
      "outputs": [
        {
          "output_type": "stream",
          "name": "stdout",
          "text": [
            "4\n",
            "12\n"
          ]
        }
      ]
    },
    {
      "cell_type": "code",
      "source": [
        "my_list = [5, 3, 8, 1, 10, 6, 9, 2, 7, 4, 11, 15, 13, 12, 14]\n",
        "\n",
        "if 10 in my_list:\n",
        "    print(\"10 is present in the list.\")\n",
        "else:\n",
        "    print(\"10 is not present in the list.\")\n"
      ],
      "metadata": {
        "colab": {
          "base_uri": "https://localhost:8080/"
        },
        "id": "Y-ICedVLHfqV",
        "outputId": "761c9d6b-8b4c-401e-abfb-40590fde470f"
      },
      "execution_count": 19,
      "outputs": [
        {
          "output_type": "stream",
          "name": "stdout",
          "text": [
            "10 is present in the list.\n"
          ]
        }
      ]
    },
    {
      "cell_type": "code",
      "source": [
        "a>>2"
      ],
      "metadata": {
        "colab": {
          "base_uri": "https://localhost:8080/"
        },
        "id": "0rCwAeo7Fc3L",
        "outputId": "910f77d5-b497-4fef-c6be-a0093b9f8695"
      },
      "execution_count": 13,
      "outputs": [
        {
          "output_type": "execute_result",
          "data": {
            "text/plain": [
              "2"
            ]
          },
          "metadata": {},
          "execution_count": 13
        }
      ]
    },
    {
      "cell_type": "code",
      "source": [],
      "metadata": {
        "id": "J8dSSlDEFe0q"
      },
      "execution_count": null,
      "outputs": []
    }
  ]
}